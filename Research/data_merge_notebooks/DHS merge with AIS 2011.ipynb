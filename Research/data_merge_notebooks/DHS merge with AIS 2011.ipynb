{
 "cells": [
  {
   "cell_type": "code",
   "execution_count": 1,
   "metadata": {},
   "outputs": [],
   "source": [
    "import numpy as np\n",
    "import pandas as pd\n",
    "import matplotlib.pyplot as plt\n",
    "import seaborn as sns\n",
    "import missingno as mno\n",
    "\n",
    "import warnings\n",
    "warnings.filterwarnings('ignore')"
   ]
  },
  {
   "cell_type": "code",
   "execution_count": 2,
   "metadata": {},
   "outputs": [],
   "source": [
    "#read in the two files\n",
    "dhs = pd.read_csv(\"out_two.csv\")\n",
    "ais = pd.read_csv(\"ais_dt.csv\")\n"
   ]
  },
  {
   "cell_type": "markdown",
   "metadata": {},
   "source": [
    "# DHS"
   ]
  },
  {
   "cell_type": "code",
   "execution_count": 3,
   "metadata": {},
   "outputs": [],
   "source": [
    "#I want to check and see if this data has the same columns out of which I build a unique id"
   ]
  },
  {
   "cell_type": "code",
   "execution_count": 4,
   "metadata": {},
   "outputs": [
    {
     "data": {
      "text/html": [
       "<div>\n",
       "<style scoped>\n",
       "    .dataframe tbody tr th:only-of-type {\n",
       "        vertical-align: middle;\n",
       "    }\n",
       "\n",
       "    .dataframe tbody tr th {\n",
       "        vertical-align: top;\n",
       "    }\n",
       "\n",
       "    .dataframe thead th {\n",
       "        text-align: right;\n",
       "    }\n",
       "</style>\n",
       "<table border=\"1\" class=\"dataframe\">\n",
       "  <thead>\n",
       "    <tr style=\"text-align: right;\">\n",
       "      <th></th>\n",
       "      <th>Contraceptive_method_currently_used.1</th>\n",
       "      <th>Age_of_wife/partner.1</th>\n",
       "      <th>Updated_Man's_weight_in_kilograms_(1_decimal)</th>\n",
       "      <th>Updated_Woman's_weight_in_kilograms_(1_decimal)</th>\n",
       "      <th>Age_of_household_members</th>\n",
       "      <th>Respondent's_line_number_(answering_Household_questionnaire)</th>\n",
       "      <th>Wealth_index_x</th>\n",
       "      <th>Case_Identification_x</th>\n",
       "      <th>Cluster_number</th>\n",
       "      <th>Household_number</th>\n",
       "      <th>...</th>\n",
       "      <th>Age_of_most_recent_partner</th>\n",
       "      <th>Age_of_2nd_to_most_recent_partner</th>\n",
       "      <th>Age_of_3rd_to_most_recent_partner</th>\n",
       "      <th>Total_lifetime_number_of_sex_partners</th>\n",
       "      <th>Concurrent_sexual_partners</th>\n",
       "      <th>Cumulative_concurrent_sexual_partners</th>\n",
       "      <th>Weight_for_Domestic_Violence_(6_decimals)</th>\n",
       "      <th>Experienced_any_severe_violence_(D105D-F)_by_wife/partner</th>\n",
       "      <th>Experienced_any_sexual_violence_(D105H-I,K)_by_wife/partner</th>\n",
       "      <th>Gender</th>\n",
       "    </tr>\n",
       "  </thead>\n",
       "  <tbody>\n",
       "    <tr>\n",
       "      <th>0</th>\n",
       "      <td>0</td>\n",
       "      <td>NaN</td>\n",
       "      <td>66.1</td>\n",
       "      <td>NaN</td>\n",
       "      <td>20</td>\n",
       "      <td>3</td>\n",
       "      <td>5</td>\n",
       "      <td>119</td>\n",
       "      <td>1</td>\n",
       "      <td>19</td>\n",
       "      <td>...</td>\n",
       "      <td>NaN</td>\n",
       "      <td>NaN</td>\n",
       "      <td>NaN</td>\n",
       "      <td>NaN</td>\n",
       "      <td>NaN</td>\n",
       "      <td>NaN</td>\n",
       "      <td>706444.0</td>\n",
       "      <td>NaN</td>\n",
       "      <td>NaN</td>\n",
       "      <td>Male</td>\n",
       "    </tr>\n",
       "    <tr>\n",
       "      <th>1</th>\n",
       "      <td>0</td>\n",
       "      <td>NaN</td>\n",
       "      <td>999.5</td>\n",
       "      <td>NaN</td>\n",
       "      <td>23</td>\n",
       "      <td>2</td>\n",
       "      <td>5</td>\n",
       "      <td>2 9</td>\n",
       "      <td>2</td>\n",
       "      <td>9</td>\n",
       "      <td>...</td>\n",
       "      <td>NaN</td>\n",
       "      <td>NaN</td>\n",
       "      <td>NaN</td>\n",
       "      <td>1.0</td>\n",
       "      <td>NaN</td>\n",
       "      <td>NaN</td>\n",
       "      <td>1349895.0</td>\n",
       "      <td>0.0</td>\n",
       "      <td>0.0</td>\n",
       "      <td>Male</td>\n",
       "    </tr>\n",
       "    <tr>\n",
       "      <th>2</th>\n",
       "      <td>0</td>\n",
       "      <td>NaN</td>\n",
       "      <td>63.0</td>\n",
       "      <td>NaN</td>\n",
       "      <td>16</td>\n",
       "      <td>2</td>\n",
       "      <td>5</td>\n",
       "      <td>247</td>\n",
       "      <td>2</td>\n",
       "      <td>47</td>\n",
       "      <td>...</td>\n",
       "      <td>NaN</td>\n",
       "      <td>NaN</td>\n",
       "      <td>NaN</td>\n",
       "      <td>1.0</td>\n",
       "      <td>NaN</td>\n",
       "      <td>NaN</td>\n",
       "      <td>643931.0</td>\n",
       "      <td>NaN</td>\n",
       "      <td>NaN</td>\n",
       "      <td>Male</td>\n",
       "    </tr>\n",
       "  </tbody>\n",
       "</table>\n",
       "<p>3 rows × 108 columns</p>\n",
       "</div>"
      ],
      "text/plain": [
       "   Contraceptive_method_currently_used.1  Age_of_wife/partner.1  \\\n",
       "0                                      0                    NaN   \n",
       "1                                      0                    NaN   \n",
       "2                                      0                    NaN   \n",
       "\n",
       "   Updated_Man's_weight_in_kilograms_(1_decimal)  \\\n",
       "0                                           66.1   \n",
       "1                                          999.5   \n",
       "2                                           63.0   \n",
       "\n",
       "   Updated_Woman's_weight_in_kilograms_(1_decimal)  Age_of_household_members  \\\n",
       "0                                              NaN                        20   \n",
       "1                                              NaN                        23   \n",
       "2                                              NaN                        16   \n",
       "\n",
       "   Respondent's_line_number_(answering_Household_questionnaire)  \\\n",
       "0                                                  3              \n",
       "1                                                  2              \n",
       "2                                                  2              \n",
       "\n",
       "   Wealth_index_x Case_Identification_x  Cluster_number  Household_number  \\\n",
       "0               5                   119               1                19   \n",
       "1               5                   2 9               2                 9   \n",
       "2               5                   247               2                47   \n",
       "\n",
       "   ...  Age_of_most_recent_partner  Age_of_2nd_to_most_recent_partner  \\\n",
       "0  ...                         NaN                                NaN   \n",
       "1  ...                         NaN                                NaN   \n",
       "2  ...                         NaN                                NaN   \n",
       "\n",
       "   Age_of_3rd_to_most_recent_partner  Total_lifetime_number_of_sex_partners  \\\n",
       "0                                NaN                                    NaN   \n",
       "1                                NaN                                    1.0   \n",
       "2                                NaN                                    1.0   \n",
       "\n",
       "   Concurrent_sexual_partners  Cumulative_concurrent_sexual_partners  \\\n",
       "0                         NaN                                    NaN   \n",
       "1                         NaN                                    NaN   \n",
       "2                         NaN                                    NaN   \n",
       "\n",
       "   Weight_for_Domestic_Violence_(6_decimals)  \\\n",
       "0                                   706444.0   \n",
       "1                                  1349895.0   \n",
       "2                                   643931.0   \n",
       "\n",
       "   Experienced_any_severe_violence_(D105D-F)_by_wife/partner  \\\n",
       "0                                                NaN           \n",
       "1                                                0.0           \n",
       "2                                                NaN           \n",
       "\n",
       "   Experienced_any_sexual_violence_(D105H-I,K)_by_wife/partner  Gender  \n",
       "0                                                NaN              Male  \n",
       "1                                                0.0              Male  \n",
       "2                                                NaN              Male  \n",
       "\n",
       "[3 rows x 108 columns]"
      ]
     },
     "execution_count": 4,
     "metadata": {},
     "output_type": "execute_result"
    }
   ],
   "source": [
    "dhs.head(3)"
   ]
  },
  {
   "cell_type": "code",
   "execution_count": 15,
   "metadata": {},
   "outputs": [
    {
     "data": {
      "text/plain": [
       "Contraceptive_method_currently_used.1                            int64\n",
       "Age_of_wife/partner.1                                          float64\n",
       "Updated_Man's_weight_in_kilograms_(1_decimal)                  float64\n",
       "Updated_Woman's_weight_in_kilograms_(1_decimal)                float64\n",
       "Age_of_household_members                                         int64\n",
       "                                                                ...   \n",
       "Cumulative_concurrent_sexual_partners                          float64\n",
       "Weight_for_Domestic_Violence_(6_decimals)                      float64\n",
       "Experienced_any_severe_violence_(D105D-F)_by_wife/partner      float64\n",
       "Experienced_any_sexual_violence_(D105H-I,K)_by_wife/partner    float64\n",
       "Gender                                                          object\n",
       "Length: 108, dtype: object"
      ]
     },
     "execution_count": 15,
     "metadata": {},
     "output_type": "execute_result"
    }
   ],
   "source": [
    "dhs.dtypes"
   ]
  },
  {
   "cell_type": "code",
   "execution_count": 6,
   "metadata": {},
   "outputs": [],
   "source": [
    "ais.drop(columns=['Unnamed: 0'], inplace = True)"
   ]
  },
  {
   "cell_type": "code",
   "execution_count": 9,
   "metadata": {},
   "outputs": [
    {
     "data": {
      "text/html": [
       "<div>\n",
       "<style scoped>\n",
       "    .dataframe tbody tr th:only-of-type {\n",
       "        vertical-align: middle;\n",
       "    }\n",
       "\n",
       "    .dataframe tbody tr th {\n",
       "        vertical-align: top;\n",
       "    }\n",
       "\n",
       "    .dataframe thead th {\n",
       "        text-align: right;\n",
       "    }\n",
       "</style>\n",
       "<table border=\"1\" class=\"dataframe\">\n",
       "  <thead>\n",
       "    <tr style=\"text-align: right;\">\n",
       "      <th></th>\n",
       "      <th>Age_of_wife/partner.1</th>\n",
       "      <th>Age_of_household_members</th>\n",
       "      <th>Age_of_wife/partner</th>\n",
       "      <th>Age_at_circumcision</th>\n",
       "      <th>Age_at_first_sex</th>\n",
       "      <th>Age_of_most_recent_partner</th>\n",
       "      <th>Age_of_2nd_to_most_recent_partner</th>\n",
       "      <th>Age_of_3rd_to_most_recent_partner</th>\n",
       "    </tr>\n",
       "  </thead>\n",
       "  <tbody>\n",
       "    <tr>\n",
       "      <th>0</th>\n",
       "      <td>NaN</td>\n",
       "      <td>20</td>\n",
       "      <td>NaN</td>\n",
       "      <td>NaN</td>\n",
       "      <td>0</td>\n",
       "      <td>NaN</td>\n",
       "      <td>NaN</td>\n",
       "      <td>NaN</td>\n",
       "    </tr>\n",
       "    <tr>\n",
       "      <th>1</th>\n",
       "      <td>NaN</td>\n",
       "      <td>23</td>\n",
       "      <td>NaN</td>\n",
       "      <td>NaN</td>\n",
       "      <td>96</td>\n",
       "      <td>NaN</td>\n",
       "      <td>NaN</td>\n",
       "      <td>NaN</td>\n",
       "    </tr>\n",
       "    <tr>\n",
       "      <th>2</th>\n",
       "      <td>NaN</td>\n",
       "      <td>16</td>\n",
       "      <td>NaN</td>\n",
       "      <td>8.0</td>\n",
       "      <td>14</td>\n",
       "      <td>NaN</td>\n",
       "      <td>NaN</td>\n",
       "      <td>NaN</td>\n",
       "    </tr>\n",
       "    <tr>\n",
       "      <th>3</th>\n",
       "      <td>NaN</td>\n",
       "      <td>15</td>\n",
       "      <td>NaN</td>\n",
       "      <td>8.0</td>\n",
       "      <td>14</td>\n",
       "      <td>NaN</td>\n",
       "      <td>NaN</td>\n",
       "      <td>NaN</td>\n",
       "    </tr>\n",
       "    <tr>\n",
       "      <th>4</th>\n",
       "      <td>NaN</td>\n",
       "      <td>16</td>\n",
       "      <td>NaN</td>\n",
       "      <td>95.0</td>\n",
       "      <td>12</td>\n",
       "      <td>NaN</td>\n",
       "      <td>NaN</td>\n",
       "      <td>NaN</td>\n",
       "    </tr>\n",
       "  </tbody>\n",
       "</table>\n",
       "</div>"
      ],
      "text/plain": [
       "   Age_of_wife/partner.1  Age_of_household_members  Age_of_wife/partner  \\\n",
       "0                    NaN                        20                  NaN   \n",
       "1                    NaN                        23                  NaN   \n",
       "2                    NaN                        16                  NaN   \n",
       "3                    NaN                        15                  NaN   \n",
       "4                    NaN                        16                  NaN   \n",
       "\n",
       "   Age_at_circumcision  Age_at_first_sex  Age_of_most_recent_partner  \\\n",
       "0                  NaN                 0                         NaN   \n",
       "1                  NaN                96                         NaN   \n",
       "2                  8.0                14                         NaN   \n",
       "3                  8.0                14                         NaN   \n",
       "4                 95.0                12                         NaN   \n",
       "\n",
       "   Age_of_2nd_to_most_recent_partner  Age_of_3rd_to_most_recent_partner  \n",
       "0                                NaN                                NaN  \n",
       "1                                NaN                                NaN  \n",
       "2                                NaN                                NaN  \n",
       "3                                NaN                                NaN  \n",
       "4                                NaN                                NaN  "
      ]
     },
     "execution_count": 9,
     "metadata": {},
     "output_type": "execute_result"
    }
   ],
   "source": [
    "dhs.filter(like = 'Age').head()"
   ]
  },
  {
   "cell_type": "markdown",
   "metadata": {},
   "source": [
    "# AIS"
   ]
  },
  {
   "cell_type": "code",
   "execution_count": 10,
   "metadata": {},
   "outputs": [],
   "source": [
    "ages = [15,16,17,18,19,20,21,22,23,24,24,25,26]"
   ]
  },
  {
   "cell_type": "code",
   "execution_count": 11,
   "metadata": {},
   "outputs": [],
   "source": [
    " ais = ais[ais['current_age'].isin(ages)]"
   ]
  },
  {
   "cell_type": "code",
   "execution_count": 12,
   "metadata": {},
   "outputs": [
    {
     "data": {
      "text/plain": [
       "1        18\n",
       "3        19\n",
       "4        22\n",
       "5        21\n",
       "9        18\n",
       "         ..\n",
       "21731    26\n",
       "21735    24\n",
       "21736    22\n",
       "21737    22\n",
       "21739    15\n",
       "Name: current_age, Length: 9518, dtype: int64"
      ]
     },
     "execution_count": 12,
     "metadata": {},
     "output_type": "execute_result"
    }
   ],
   "source": [
    "ais['current_age']"
   ]
  },
  {
   "cell_type": "code",
   "execution_count": 13,
   "metadata": {},
   "outputs": [
    {
     "data": {
      "text/html": [
       "<div>\n",
       "<style scoped>\n",
       "    .dataframe tbody tr th:only-of-type {\n",
       "        vertical-align: middle;\n",
       "    }\n",
       "\n",
       "    .dataframe tbody tr th {\n",
       "        vertical-align: top;\n",
       "    }\n",
       "\n",
       "    .dataframe thead th {\n",
       "        text-align: right;\n",
       "    }\n",
       "</style>\n",
       "<table border=\"1\" class=\"dataframe\">\n",
       "  <thead>\n",
       "    <tr style=\"text-align: right;\">\n",
       "      <th></th>\n",
       "      <th>caseid</th>\n",
       "      <th>country_code_and_phase</th>\n",
       "      <th>cluster_number</th>\n",
       "      <th>household_number</th>\n",
       "      <th>respondent_line_number</th>\n",
       "      <th>utlimate_area_unit</th>\n",
       "      <th>month_of_birth</th>\n",
       "      <th>year_of_birth</th>\n",
       "      <th>current_age</th>\n",
       "      <th>region</th>\n",
       "      <th>...</th>\n",
       "      <th>ever_forced_for_sex</th>\n",
       "      <th>hiv_test_results</th>\n",
       "      <th>number_of_testing_times</th>\n",
       "      <th>ever_test_as_couple</th>\n",
       "      <th>careful_about_hiv</th>\n",
       "      <th>chances_getting_hiv</th>\n",
       "      <th>who_can_give_u_hiv</th>\n",
       "      <th>respondent_circumised</th>\n",
       "      <th>ever_paid_for_sex</th>\n",
       "      <th>paid_for_sex_last_12months</th>\n",
       "    </tr>\n",
       "  </thead>\n",
       "  <tbody>\n",
       "    <tr>\n",
       "      <th>1</th>\n",
       "      <td>00102 02</td>\n",
       "      <td>UG6</td>\n",
       "      <td>1</td>\n",
       "      <td>2</td>\n",
       "      <td>2</td>\n",
       "      <td>1</td>\n",
       "      <td>2</td>\n",
       "      <td>1993</td>\n",
       "      <td>18</td>\n",
       "      <td>east central</td>\n",
       "      <td>...</td>\n",
       "      <td>NaN</td>\n",
       "      <td>NaN</td>\n",
       "      <td>NaN</td>\n",
       "      <td>NaN</td>\n",
       "      <td>more careful</td>\n",
       "      <td>low</td>\n",
       "      <td>boy/girlfriend</td>\n",
       "      <td>no</td>\n",
       "      <td>NaN</td>\n",
       "      <td>no</td>\n",
       "    </tr>\n",
       "    <tr>\n",
       "      <th>3</th>\n",
       "      <td>00103 02</td>\n",
       "      <td>UG6</td>\n",
       "      <td>1</td>\n",
       "      <td>3</td>\n",
       "      <td>2</td>\n",
       "      <td>1</td>\n",
       "      <td>4</td>\n",
       "      <td>1992</td>\n",
       "      <td>19</td>\n",
       "      <td>east central</td>\n",
       "      <td>...</td>\n",
       "      <td>no</td>\n",
       "      <td>NaN</td>\n",
       "      <td>NaN</td>\n",
       "      <td>NaN</td>\n",
       "      <td>more careful</td>\n",
       "      <td>low</td>\n",
       "      <td>boy/girlfriend</td>\n",
       "      <td>no</td>\n",
       "      <td>NaN</td>\n",
       "      <td>NaN</td>\n",
       "    </tr>\n",
       "    <tr>\n",
       "      <th>4</th>\n",
       "      <td>00104 01</td>\n",
       "      <td>UG6</td>\n",
       "      <td>1</td>\n",
       "      <td>4</td>\n",
       "      <td>1</td>\n",
       "      <td>1</td>\n",
       "      <td>12</td>\n",
       "      <td>1988</td>\n",
       "      <td>22</td>\n",
       "      <td>east central</td>\n",
       "      <td>...</td>\n",
       "      <td>no</td>\n",
       "      <td>NaN</td>\n",
       "      <td>NaN</td>\n",
       "      <td>NaN</td>\n",
       "      <td>more careful</td>\n",
       "      <td>high</td>\n",
       "      <td>spouse</td>\n",
       "      <td>yes</td>\n",
       "      <td>NaN</td>\n",
       "      <td>no</td>\n",
       "    </tr>\n",
       "  </tbody>\n",
       "</table>\n",
       "<p>3 rows × 81 columns</p>\n",
       "</div>"
      ],
      "text/plain": [
       "     caseid country_code_and_phase  cluster_number  household_number  \\\n",
       "1  00102 02                    UG6               1                 2   \n",
       "3  00103 02                    UG6               1                 3   \n",
       "4  00104 01                    UG6               1                 4   \n",
       "\n",
       "   respondent_line_number  utlimate_area_unit  month_of_birth  year_of_birth  \\\n",
       "1                       2                   1               2           1993   \n",
       "3                       2                   1               4           1992   \n",
       "4                       1                   1              12           1988   \n",
       "\n",
       "   current_age        region  ... ever_forced_for_sex hiv_test_results  \\\n",
       "1           18  east central  ...                 NaN              NaN   \n",
       "3           19  east central  ...                  no              NaN   \n",
       "4           22  east central  ...                  no              NaN   \n",
       "\n",
       "  number_of_testing_times ever_test_as_couple careful_about_hiv  \\\n",
       "1                     NaN                 NaN      more careful   \n",
       "3                     NaN                 NaN      more careful   \n",
       "4                     NaN                 NaN      more careful   \n",
       "\n",
       "  chances_getting_hiv who_can_give_u_hiv respondent_circumised  \\\n",
       "1                 low     boy/girlfriend                    no   \n",
       "3                 low     boy/girlfriend                    no   \n",
       "4                high             spouse                   yes   \n",
       "\n",
       "  ever_paid_for_sex  paid_for_sex_last_12months  \n",
       "1               NaN                          no  \n",
       "3               NaN                         NaN  \n",
       "4               NaN                          no  \n",
       "\n",
       "[3 rows x 81 columns]"
      ]
     },
     "execution_count": 13,
     "metadata": {},
     "output_type": "execute_result"
    }
   ],
   "source": [
    "ais.head(3)"
   ]
  },
  {
   "cell_type": "code",
   "execution_count": 14,
   "metadata": {},
   "outputs": [
    {
     "data": {
      "text/plain": [
       "caseid                         object\n",
       "country_code_and_phase         object\n",
       "cluster_number                  int64\n",
       "household_number                int64\n",
       "respondent_line_number          int64\n",
       "                               ...   \n",
       "chances_getting_hiv            object\n",
       "who_can_give_u_hiv             object\n",
       "respondent_circumised          object\n",
       "ever_paid_for_sex             float64\n",
       "paid_for_sex_last_12months     object\n",
       "Length: 81, dtype: object"
      ]
     },
     "execution_count": 14,
     "metadata": {},
     "output_type": "execute_result"
    }
   ],
   "source": [
    "ais.dtypes"
   ]
  },
  {
   "cell_type": "code",
   "execution_count": 13,
   "metadata": {},
   "outputs": [],
   "source": [
    "#I need to change cluster number, household_number, respondent_line to floating point"
   ]
  },
  {
   "cell_type": "code",
   "execution_count": 16,
   "metadata": {},
   "outputs": [],
   "source": [
    "ais['cluster_number'] = ais['cluster_number'].astype('float64')\n",
    "ais['household_number'] = ais['household_number'].astype('float64')\n",
    "ais['respondent_line_number'] = ais['respondent_line_number'].astype('float64')"
   ]
  },
  {
   "cell_type": "code",
   "execution_count": null,
   "metadata": {},
   "outputs": [],
   "source": []
  },
  {
   "cell_type": "markdown",
   "metadata": {},
   "source": [
    "### Let's now merge the data\n",
    "\n",
    "We are going to consider the following columns: **`Cluser Number` + `Household Number` + `Household Line Number`** as we merge, these are the columns that create a new id."
   ]
  },
  {
   "cell_type": "code",
   "execution_count": 18,
   "metadata": {},
   "outputs": [],
   "source": [
    " ais_dhs = pd.merge(dhs, ais, left_on=['Cluster_number','Household_number',\"Respondent's_line_number_(answering_Household_questionnaire)\"], right_on=['cluster_number','household_number','respondent_line_number'], how = 'left')"
   ]
  },
  {
   "cell_type": "code",
   "execution_count": 19,
   "metadata": {},
   "outputs": [
    {
     "data": {
      "text/plain": [
       "(1886, 189)"
      ]
     },
     "execution_count": 19,
     "metadata": {},
     "output_type": "execute_result"
    }
   ],
   "source": [
    "ais_dhs.shape"
   ]
  },
  {
   "cell_type": "code",
   "execution_count": 21,
   "metadata": {},
   "outputs": [],
   "source": [
    "ais_dhs.to_csv('left_two_data.csv',index = False)"
   ]
  },
  {
   "cell_type": "code",
   "execution_count": 22,
   "metadata": {},
   "outputs": [
    {
     "data": {
      "text/plain": [
       "(1886, 189)"
      ]
     },
     "execution_count": 22,
     "metadata": {},
     "output_type": "execute_result"
    }
   ],
   "source": [
    "ais_dhs.shape"
   ]
  },
  {
   "cell_type": "code",
   "execution_count": 20,
   "metadata": {},
   "outputs": [
    {
     "data": {
      "text/plain": [
       "<matplotlib.axes._subplots.AxesSubplot at 0x7f73bce30048>"
      ]
     },
     "execution_count": 20,
     "metadata": {},
     "output_type": "execute_result"
    },
    {
     "data": {
      "image/png": "[encoded data removed]",
      "text/plain": [
       "<Figure size 1728x720 with 2 Axes>"
      ]
     },
     "metadata": {
      "needs_background": "light"
     },
     "output_type": "display_data"
    }
   ],
   "source": [
    "mno.bar(ais_dhs)"
   ]
  },
  {
   "cell_type": "code",
   "execution_count": 28,
   "metadata": {},
   "outputs": [
    {
     "data": {
      "text/plain": [
       "((9518, 81), (861, 209))"
      ]
     },
     "execution_count": 28,
     "metadata": {},
     "output_type": "execute_result"
    }
   ],
   "source": [
    "ais.shape, dhs.shape"
   ]
  },
  {
   "cell_type": "code",
   "execution_count": 29,
   "metadata": {},
   "outputs": [
    {
     "data": {
      "text/html": [
       "<div>\n",
       "<style scoped>\n",
       "    .dataframe tbody tr th:only-of-type {\n",
       "        vertical-align: middle;\n",
       "    }\n",
       "\n",
       "    .dataframe tbody tr th {\n",
       "        vertical-align: top;\n",
       "    }\n",
       "\n",
       "    .dataframe thead th {\n",
       "        text-align: right;\n",
       "    }\n",
       "</style>\n",
       "<table border=\"1\" class=\"dataframe\">\n",
       "  <thead>\n",
       "    <tr style=\"text-align: right;\">\n",
       "      <th></th>\n",
       "      <th>current_age</th>\n",
       "      <th>age_of_household_head</th>\n",
       "      <th>age_at_first_cohabitation</th>\n",
       "      <th>age_at_first_sex</th>\n",
       "    </tr>\n",
       "  </thead>\n",
       "  <tbody>\n",
       "    <tr>\n",
       "      <th>1</th>\n",
       "      <td>18</td>\n",
       "      <td>28</td>\n",
       "      <td>NaN</td>\n",
       "      <td>14</td>\n",
       "    </tr>\n",
       "    <tr>\n",
       "      <th>3</th>\n",
       "      <td>19</td>\n",
       "      <td>45</td>\n",
       "      <td>NaN</td>\n",
       "      <td>16</td>\n",
       "    </tr>\n",
       "    <tr>\n",
       "      <th>4</th>\n",
       "      <td>22</td>\n",
       "      <td>22</td>\n",
       "      <td>21.0</td>\n",
       "      <td>14</td>\n",
       "    </tr>\n",
       "    <tr>\n",
       "      <th>5</th>\n",
       "      <td>21</td>\n",
       "      <td>22</td>\n",
       "      <td>20.0</td>\n",
       "      <td>14</td>\n",
       "    </tr>\n",
       "    <tr>\n",
       "      <th>9</th>\n",
       "      <td>18</td>\n",
       "      <td>75</td>\n",
       "      <td>14.0</td>\n",
       "      <td>at first union</td>\n",
       "    </tr>\n",
       "    <tr>\n",
       "      <th>...</th>\n",
       "      <td>...</td>\n",
       "      <td>...</td>\n",
       "      <td>...</td>\n",
       "      <td>...</td>\n",
       "    </tr>\n",
       "    <tr>\n",
       "      <th>21731</th>\n",
       "      <td>26</td>\n",
       "      <td>25</td>\n",
       "      <td>20.0</td>\n",
       "      <td>13</td>\n",
       "    </tr>\n",
       "    <tr>\n",
       "      <th>21735</th>\n",
       "      <td>24</td>\n",
       "      <td>29</td>\n",
       "      <td>23.0</td>\n",
       "      <td>20</td>\n",
       "    </tr>\n",
       "    <tr>\n",
       "      <th>21736</th>\n",
       "      <td>22</td>\n",
       "      <td>29</td>\n",
       "      <td>21.0</td>\n",
       "      <td>12</td>\n",
       "    </tr>\n",
       "    <tr>\n",
       "      <th>21737</th>\n",
       "      <td>22</td>\n",
       "      <td>31</td>\n",
       "      <td>20.0</td>\n",
       "      <td>17</td>\n",
       "    </tr>\n",
       "    <tr>\n",
       "      <th>21739</th>\n",
       "      <td>15</td>\n",
       "      <td>31</td>\n",
       "      <td>NaN</td>\n",
       "      <td>not had sex</td>\n",
       "    </tr>\n",
       "  </tbody>\n",
       "</table>\n",
       "<p>9518 rows × 4 columns</p>\n",
       "</div>"
      ],
      "text/plain": [
       "       current_age age_of_household_head  age_at_first_cohabitation  \\\n",
       "1               18                    28                        NaN   \n",
       "3               19                    45                        NaN   \n",
       "4               22                    22                       21.0   \n",
       "5               21                    22                       20.0   \n",
       "9               18                    75                       14.0   \n",
       "...            ...                   ...                        ...   \n",
       "21731           26                    25                       20.0   \n",
       "21735           24                    29                       23.0   \n",
       "21736           22                    29                       21.0   \n",
       "21737           22                    31                       20.0   \n",
       "21739           15                    31                        NaN   \n",
       "\n",
       "      age_at_first_sex  \n",
       "1                   14  \n",
       "3                   16  \n",
       "4                   14  \n",
       "5                   14  \n",
       "9       at first union  \n",
       "...                ...  \n",
       "21731               13  \n",
       "21735               20  \n",
       "21736               12  \n",
       "21737               17  \n",
       "21739      not had sex  \n",
       "\n",
       "[9518 rows x 4 columns]"
      ]
     },
     "execution_count": 29,
     "metadata": {},
     "output_type": "execute_result"
    }
   ],
   "source": [
    "ais.filter(like ='age')"
   ]
  },
  {
   "cell_type": "code",
   "execution_count": 31,
   "metadata": {},
   "outputs": [
    {
     "data": {
      "text/plain": [
       "25.0    20\n",
       "24.0     7\n",
       "22.0     6\n",
       "18.0     6\n",
       "23.0     5\n",
       "26.0     5\n",
       "16.0     2\n",
       "17.0     2\n",
       "20.0     2\n",
       "19.0     1\n",
       "21.0     1\n",
       "Name: current_age, dtype: int64"
      ]
     },
     "execution_count": 31,
     "metadata": {},
     "output_type": "execute_result"
    }
   ],
   "source": [
    "ais_dhs['current_age'].value_counts()"
   ]
  },
  {
   "cell_type": "code",
   "execution_count": null,
   "metadata": {},
   "outputs": [],
   "source": []
  }
 ],
 "metadata": {
  "kernelspec": {
   "display_name": "Python 3",
   "language": "python",
   "name": "python3"
  },
  "language_info": {
   "codemirror_mode": {
    "name": "ipython",
    "version": 3
   },
   "file_extension": ".py",
   "mimetype": "text/x-python",
   "name": "python",
   "nbconvert_exporter": "python",
   "pygments_lexer": "ipython3",
   "version": "3.6.9"
  }
 },
 "nbformat": 4,
 "nbformat_minor": 4
}
