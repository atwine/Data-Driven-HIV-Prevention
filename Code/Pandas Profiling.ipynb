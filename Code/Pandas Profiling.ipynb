{
 "cells": [
  {
   "cell_type": "markdown",
   "metadata": {},
   "source": [
    "## Pandas Profiling:\n",
    "\n",
    "In this notebook, I am going to look specifically at each columns and find ways to make sure I fill in most of the variables as much as possible.\n",
    "\n",
    "I will fill the nas with multiple methods so that we don't have empty spaces.\n",
    "\n",
    "I am working along with tableau prep to see the distributions of the variables."
   ]
  },
  {
   "cell_type": "code",
   "execution_count": 1,
   "metadata": {},
   "outputs": [],
   "source": [
    "#import libraries\n",
    "import pandas as pd\n",
    "import numpy as np\n",
    "import missingno as mno\n",
    "\n",
    "#visuals\n",
    "import matplotlib.pyplot as plt\n",
    "import seaborn as sns\n",
    "\n",
    "#warnings\n",
    "import warnings\n",
    "warnings.filterwarnings('ignore')"
   ]
  },
  {
   "cell_type": "code",
   "execution_count": 2,
   "metadata": {},
   "outputs": [],
   "source": [
    "#let's read in the data\n",
    "dt = pd.read_csv('third_output.csv')"
   ]
  },
  {
   "cell_type": "code",
   "execution_count": 3,
   "metadata": {},
   "outputs": [
    {
     "data": {
      "text/html": [
       "<div>\n",
       "<style scoped>\n",
       "    .dataframe tbody tr th:only-of-type {\n",
       "        vertical-align: middle;\n",
       "    }\n",
       "\n",
       "    .dataframe tbody tr th {\n",
       "        vertical-align: top;\n",
       "    }\n",
       "\n",
       "    .dataframe thead th {\n",
       "        text-align: right;\n",
       "    }\n",
       "</style>\n",
       "<table border=\"1\" class=\"dataframe\">\n",
       "  <thead>\n",
       "    <tr style=\"text-align: right;\">\n",
       "      <th></th>\n",
       "      <th>Who_performed_the_circumcision_x</th>\n",
       "      <th>Place_where_circumcision_was_done_x</th>\n",
       "      <th>Desire_for_more_children_y</th>\n",
       "      <th>Preferred_waiting_time_for_birth_of_a/another_child_y</th>\n",
       "      <th>Number_of_women_fathered_children_with_y</th>\n",
       "      <th>Reduce_risk_of_getting_HIV:_have_1_sex_partner_only,_who_has_no_other_partners_y</th>\n",
       "      <th>A_healthy_looking_person_can_have_HIV_x</th>\n",
       "      <th>Know_a_place_to_get_HIV_test_y</th>\n",
       "      <th>last_2partner_hiv_status</th>\n",
       "      <th>Ever_been_tested_for_HIV_y</th>\n",
       "      <th>...</th>\n",
       "      <th>total_life_time_number_of_partners</th>\n",
       "      <th>ever_forced_for_sex</th>\n",
       "      <th>hiv_test_results</th>\n",
       "      <th>number_of_testing_times</th>\n",
       "      <th>ever_test_as_couple</th>\n",
       "      <th>careful_about_hiv</th>\n",
       "      <th>chances_getting_hiv</th>\n",
       "      <th>who_can_give_u_hiv</th>\n",
       "      <th>respondent_circumised</th>\n",
       "      <th>paid_for_sex_last_12months</th>\n",
       "    </tr>\n",
       "  </thead>\n",
       "  <tbody>\n",
       "    <tr>\n",
       "      <th>0</th>\n",
       "      <td>NaN</td>\n",
       "      <td>NaN</td>\n",
       "      <td>8.0</td>\n",
       "      <td>NaN</td>\n",
       "      <td>0</td>\n",
       "      <td>1</td>\n",
       "      <td>1</td>\n",
       "      <td>1</td>\n",
       "      <td>NaN</td>\n",
       "      <td>0</td>\n",
       "      <td>...</td>\n",
       "      <td>1.0</td>\n",
       "      <td>NaN</td>\n",
       "      <td>NaN</td>\n",
       "      <td>NaN</td>\n",
       "      <td>NaN</td>\n",
       "      <td>more careful</td>\n",
       "      <td>low</td>\n",
       "      <td>boy/girlfriend</td>\n",
       "      <td>no</td>\n",
       "      <td>NaN</td>\n",
       "    </tr>\n",
       "    <tr>\n",
       "      <th>1</th>\n",
       "      <td>NaN</td>\n",
       "      <td>NaN</td>\n",
       "      <td>NaN</td>\n",
       "      <td>NaN</td>\n",
       "      <td>1</td>\n",
       "      <td>1</td>\n",
       "      <td>1</td>\n",
       "      <td>1</td>\n",
       "      <td>negative</td>\n",
       "      <td>0</td>\n",
       "      <td>...</td>\n",
       "      <td>2.0</td>\n",
       "      <td>no</td>\n",
       "      <td>NaN</td>\n",
       "      <td>1.0</td>\n",
       "      <td>yes</td>\n",
       "      <td>more careful</td>\n",
       "      <td>high</td>\n",
       "      <td>spouse</td>\n",
       "      <td>NaN</td>\n",
       "      <td>NaN</td>\n",
       "    </tr>\n",
       "    <tr>\n",
       "      <th>2</th>\n",
       "      <td>2.0</td>\n",
       "      <td>1.0</td>\n",
       "      <td>NaN</td>\n",
       "      <td>NaN</td>\n",
       "      <td>0</td>\n",
       "      <td>1</td>\n",
       "      <td>1</td>\n",
       "      <td>1</td>\n",
       "      <td>NaN</td>\n",
       "      <td>1</td>\n",
       "      <td>...</td>\n",
       "      <td>NaN</td>\n",
       "      <td>NaN</td>\n",
       "      <td>NaN</td>\n",
       "      <td>NaN</td>\n",
       "      <td>NaN</td>\n",
       "      <td>NaN</td>\n",
       "      <td>NaN</td>\n",
       "      <td>NaN</td>\n",
       "      <td>NaN</td>\n",
       "      <td>NaN</td>\n",
       "    </tr>\n",
       "    <tr>\n",
       "      <th>3</th>\n",
       "      <td>2.0</td>\n",
       "      <td>1.0</td>\n",
       "      <td>NaN</td>\n",
       "      <td>NaN</td>\n",
       "      <td>0</td>\n",
       "      <td>1</td>\n",
       "      <td>1</td>\n",
       "      <td>1</td>\n",
       "      <td>NaN</td>\n",
       "      <td>1</td>\n",
       "      <td>...</td>\n",
       "      <td>NaN</td>\n",
       "      <td>NaN</td>\n",
       "      <td>NaN</td>\n",
       "      <td>NaN</td>\n",
       "      <td>NaN</td>\n",
       "      <td>NaN</td>\n",
       "      <td>NaN</td>\n",
       "      <td>NaN</td>\n",
       "      <td>NaN</td>\n",
       "      <td>NaN</td>\n",
       "    </tr>\n",
       "    <tr>\n",
       "      <th>4</th>\n",
       "      <td>NaN</td>\n",
       "      <td>NaN</td>\n",
       "      <td>NaN</td>\n",
       "      <td>NaN</td>\n",
       "      <td>0</td>\n",
       "      <td>1</td>\n",
       "      <td>1</td>\n",
       "      <td>1</td>\n",
       "      <td>NaN</td>\n",
       "      <td>1</td>\n",
       "      <td>...</td>\n",
       "      <td>NaN</td>\n",
       "      <td>NaN</td>\n",
       "      <td>NaN</td>\n",
       "      <td>NaN</td>\n",
       "      <td>NaN</td>\n",
       "      <td>NaN</td>\n",
       "      <td>NaN</td>\n",
       "      <td>NaN</td>\n",
       "      <td>NaN</td>\n",
       "      <td>NaN</td>\n",
       "    </tr>\n",
       "  </tbody>\n",
       "</table>\n",
       "<p>5 rows × 177 columns</p>\n",
       "</div>"
      ],
      "text/plain": [
       "   Who_performed_the_circumcision_x  Place_where_circumcision_was_done_x  \\\n",
       "0                               NaN                                  NaN   \n",
       "1                               NaN                                  NaN   \n",
       "2                               2.0                                  1.0   \n",
       "3                               2.0                                  1.0   \n",
       "4                               NaN                                  NaN   \n",
       "\n",
       "   Desire_for_more_children_y  \\\n",
       "0                         8.0   \n",
       "1                         NaN   \n",
       "2                         NaN   \n",
       "3                         NaN   \n",
       "4                         NaN   \n",
       "\n",
       "   Preferred_waiting_time_for_birth_of_a/another_child_y  \\\n",
       "0                                                NaN       \n",
       "1                                                NaN       \n",
       "2                                                NaN       \n",
       "3                                                NaN       \n",
       "4                                                NaN       \n",
       "\n",
       "   Number_of_women_fathered_children_with_y  \\\n",
       "0                                         0   \n",
       "1                                         1   \n",
       "2                                         0   \n",
       "3                                         0   \n",
       "4                                         0   \n",
       "\n",
       "   Reduce_risk_of_getting_HIV:_have_1_sex_partner_only,_who_has_no_other_partners_y  \\\n",
       "0                                                  1                                  \n",
       "1                                                  1                                  \n",
       "2                                                  1                                  \n",
       "3                                                  1                                  \n",
       "4                                                  1                                  \n",
       "\n",
       "   A_healthy_looking_person_can_have_HIV_x  Know_a_place_to_get_HIV_test_y  \\\n",
       "0                                        1                               1   \n",
       "1                                        1                               1   \n",
       "2                                        1                               1   \n",
       "3                                        1                               1   \n",
       "4                                        1                               1   \n",
       "\n",
       "  last_2partner_hiv_status  Ever_been_tested_for_HIV_y  ...  \\\n",
       "0                      NaN                           0  ...   \n",
       "1                 negative                           0  ...   \n",
       "2                      NaN                           1  ...   \n",
       "3                      NaN                           1  ...   \n",
       "4                      NaN                           1  ...   \n",
       "\n",
       "  total_life_time_number_of_partners  ever_forced_for_sex  hiv_test_results  \\\n",
       "0                                1.0                  NaN               NaN   \n",
       "1                                2.0                   no               NaN   \n",
       "2                                NaN                  NaN               NaN   \n",
       "3                                NaN                  NaN               NaN   \n",
       "4                                NaN                  NaN               NaN   \n",
       "\n",
       "   number_of_testing_times  ever_test_as_couple  careful_about_hiv  \\\n",
       "0                      NaN                  NaN       more careful   \n",
       "1                      1.0                  yes       more careful   \n",
       "2                      NaN                  NaN                NaN   \n",
       "3                      NaN                  NaN                NaN   \n",
       "4                      NaN                  NaN                NaN   \n",
       "\n",
       "   chances_getting_hiv  who_can_give_u_hiv  respondent_circumised  \\\n",
       "0                  low      boy/girlfriend                     no   \n",
       "1                 high              spouse                    NaN   \n",
       "2                  NaN                 NaN                    NaN   \n",
       "3                  NaN                 NaN                    NaN   \n",
       "4                  NaN                 NaN                    NaN   \n",
       "\n",
       "   paid_for_sex_last_12months  \n",
       "0                         NaN  \n",
       "1                         NaN  \n",
       "2                         NaN  \n",
       "3                         NaN  \n",
       "4                         NaN  \n",
       "\n",
       "[5 rows x 177 columns]"
      ]
     },
     "execution_count": 3,
     "metadata": {},
     "output_type": "execute_result"
    }
   ],
   "source": [
    "dt.head()"
   ]
  },
  {
   "cell_type": "code",
   "execution_count": 4,
   "metadata": {},
   "outputs": [
    {
     "data": {
      "text/plain": [
       "<matplotlib.axes._subplots.AxesSubplot at 0x7fb00b400860>"
      ]
     },
     "execution_count": 4,
     "metadata": {},
     "output_type": "execute_result"
    },
    {
     "data": {
      "image/png": "[encoded data removed]",
      "text/plain": [
       "<Figure size 1728x720 with 2 Axes>"
      ]
     },
     "metadata": {
      "needs_background": "light"
     },
     "output_type": "display_data"
    }
   ],
   "source": [
    "#let's see how the structure of the data is\n",
    "mno.bar(dt)"
   ]
  },
  {
   "cell_type": "markdown",
   "metadata": {},
   "source": [
    "### Observations:\n",
    "\n",
    "- We cna see that we have a couple of columns with a lot of missing values,we will have to take care of that.\n",
    "- We also have columns with a descent number of columns with good data.\n",
    "- What now matters is the method we use to deal with the columns, do we drop, fill with mean, mode or fillforward, it will all depend on the perception we get as we move forward.\n",
    "\n",
    "### Variables:"
   ]
  },
  {
   "cell_type": "code",
   "execution_count": 5,
   "metadata": {},
   "outputs": [
    {
     "data": {
      "text/plain": [
       "(859, 177)"
      ]
     },
     "execution_count": 5,
     "metadata": {},
     "output_type": "execute_result"
    }
   ],
   "source": [
    "#shape of the data\n",
    "dt.shape"
   ]
  },
  {
   "cell_type": "code",
   "execution_count": 6,
   "metadata": {
    "scrolled": true
   },
   "outputs": [
    {
     "data": {
      "text/plain": [
       "['Who_performed_the_circumcision_x',\n",
       " 'Place_where_circumcision_was_done_x',\n",
       " 'Desire_for_more_children_y',\n",
       " 'Preferred_waiting_time_for_birth_of_a/another_child_y',\n",
       " 'Number_of_women_fathered_children_with_y',\n",
       " 'Reduce_risk_of_getting_HIV:_have_1_sex_partner_only,_who_has_no_other_partners_y',\n",
       " 'A_healthy_looking_person_can_have_HIV_x',\n",
       " 'Know_a_place_to_get_HIV_test_y',\n",
       " 'last_2partner_hiv_status',\n",
       " 'Ever_been_tested_for_HIV_y',\n",
       " 'used_condom_last_sex',\n",
       " 'Brand_of_condom_used_y',\n",
       " 'Children_should_be_taught_about_condoms_to_avoid_AIDS_x',\n",
       " 'Source_of_condoms_x',\n",
       " 'sexualpartners_includinspouse',\n",
       " 'daughters_elsewhere.1',\n",
       " 'Ever_been_married_or_in_union_y',\n",
       " 'Have_ever_paid_anyone_in_exchange_for_sex_x',\n",
       " 'Used_condom_every_time_had_sex_with_3rd_to_most_recent_partner_in_last_12_months_x',\n",
       " 'Contraceptive_method_currently_used_y',\n",
       " 'Updated_source_of_condom',\n",
       " 'Updated_weight_for_domestic_violence',\n",
       " 'Contraceptive_method_currently_used_x',\n",
       " 'Highest_educational_level_attained',\n",
       " 'Updated_Biomass_index',\n",
       " 'Age_of_wife/partner_y',\n",
       " \"Updated_Man's_weight\",\n",
       " \"Updated_Woman's_Weight\",\n",
       " 'type_of_place_of_residence_x',\n",
       " 'Age_at_first_sex_x',\n",
       " 'Age_at_circumcision_x',\n",
       " 'Age',\n",
       " 'Wealth_index_hse',\n",
       " 'Region',\n",
       " 'Source_of_drinking_water',\n",
       " 'Has_electricity',\n",
       " 'Has_radio',\n",
       " 'Has_television',\n",
       " 'Has_refrigerator',\n",
       " 'Has_bicycle',\n",
       " 'Has_motorcycle/scooter',\n",
       " 'Has_car/truck',\n",
       " 'Has_telephone_(land-line)',\n",
       " 'Has_mosquito_bed_net_for_sleeping',\n",
       " 'Has_mobile_telephone',\n",
       " 'Has_watch',\n",
       " 'Has_animal-drawn_cart',\n",
       " 'Number_of_rooms_used_for_sleeping',\n",
       " 'Sex_of_head_of_household',\n",
       " 'Share_toilet_with_other_households',\n",
       " 'Time_to_get_to_water_source_(minutes)',\n",
       " 'Location_of_source_for_water',\n",
       " 'Mother_alive',\n",
       " 'Father_alive',\n",
       " 'Current_marital_status',\n",
       " 'has_a_blanket',\n",
       " 'has_a_pair_of_shoes',\n",
       " 'has_atleast_two_sets_of_clothes',\n",
       " 'Household_has_separate_room_used_as_kitchen',\n",
       " 'Household_has_a_cassette_player',\n",
       " 'Household_has_a_table',\n",
       " 'Household_has_a_chair',\n",
       " 'Household_has_a_bed',\n",
       " 'Household_has_a_cupboard',\n",
       " 'Household_has_a_clock',\n",
       " 'Household_has_a_boat_without_a_motor',\n",
       " 'Currently_residing_with_wife/partner_x',\n",
       " 'Times_away_from_home_in_last_12_months_x',\n",
       " 'Wealth_index_male',\n",
       " 'Partner_currently_pregnant_x',\n",
       " 'Knowledge_of_any_contraceptive_method_x',\n",
       " 'Smokes_cigarettes_x',\n",
       " 'Smokes_pipe_x',\n",
       " 'Time_since_last_sex_(in_days)_x',\n",
       " 'Wife_justified_refusing_sex:_husband_has_other_women_x',\n",
       " 'Wife_justified_asking_husband_to_use_condom_if_he_has_STI_x',\n",
       " 'Wife/partner_jealous_if_respondent_talks_with_other_women_x',\n",
       " 'Wife/partner_accuses_respondent_of_unfaithfulness_x',\n",
       " 'Wife/partner_does_not_permit_respondent_to_meet_female_friends_x',\n",
       " \"Wife/partner_tries_to_limit_respondent's_contact_with_family_x\",\n",
       " 'Wife/partner_insists_on_knowing_where_respondent_is_x',\n",
       " \"Wife/partner_doesn't_trust_respondent_with_money_x\",\n",
       " 'Currently_working_x',\n",
       " 'Owns_land_alone_or_jointly_x',\n",
       " 'Ever_heard_of_a_Sexually_Transmitted_Infection_(STI)_x',\n",
       " 'Ever_heard_of_AIDS_x',\n",
       " 'Had_genital_sore/ulcer_in_last_12_months_x',\n",
       " 'Had_genital_discharge_in_last_12_months_x',\n",
       " 'Sought_advice/treatment_for_last_STI_infection_x',\n",
       " 'Heard_about_other_STIs_x',\n",
       " 'Total_lifetime_number_of_sex_partners_x',\n",
       " 'Concurrent_sexual_partners_x',\n",
       " 'Cumulative_concurrent_sexual_partners_x',\n",
       " 'Experienced_any_severe_violence_(D105D-F)_by_wife/partner_x',\n",
       " 'Experienced_any_sexual_violence_(D105H-I,K)_by_wife/partner_x',\n",
       " 'Currently_residing_with_wife/partner_y',\n",
       " 'Times_away_from_home_in_last_12_months_y',\n",
       " 'Wealth_index',\n",
       " 'Partner_currently_pregnant_y',\n",
       " 'Knowledge_of_any_contraceptive_method_y',\n",
       " 'Smokes_cigarettes_y',\n",
       " 'Smokes_pipe_y',\n",
       " 'Time_since_last_sex_(in_days)_y',\n",
       " 'Wife_justified_refusing_sex:_husband_has_other_women_y',\n",
       " 'Wife_justified_asking_husband_to_use_condom_if_he_has_STI_y',\n",
       " 'Wife/partner_jealous_if_respondent_talks_with_other_women_y',\n",
       " 'Wife/partner_accuses_respondent_of_unfaithfulness_y',\n",
       " 'Wife/partner_does_not_permit_respondent_to_meet_female_friends_y',\n",
       " \"Wife/partner_tries_to_limit_respondent's_contact_with_family_y\",\n",
       " 'Wife/partner_insists_on_knowing_where_respondent_is_y',\n",
       " \"Wife/partner_doesn't_trust_respondent_with_money_y\",\n",
       " 'Currently_working_y',\n",
       " 'Owns_land_alone_or_jointly_y',\n",
       " 'Ever_heard_of_a_Sexually_Transmitted_Infection_(STI)_y',\n",
       " 'Ever_heard_of_AIDS_y',\n",
       " 'Had_genital_sore/ulcer_in_last_12_months_y',\n",
       " 'Had_genital_discharge_in_last_12_months_y',\n",
       " 'Sought_advice/treatment_for_last_STI_infection_y',\n",
       " 'Heard_about_other_STIs_y',\n",
       " 'Have_ever_paid_anyone_in_exchange_for_sex_y',\n",
       " 'Paid_for_sex_in_last_12_months_y',\n",
       " 'Age_of_most_recent_partner_y',\n",
       " 'Age_of_2nd_to_most_recent_partner_y',\n",
       " 'Total_lifetime_number_of_sex_partners_y',\n",
       " 'Concurrent_sexual_partners_y',\n",
       " 'Cumulative_concurrent_sexual_partners_y',\n",
       " 'Experienced_any_severe_violence_(D105D-F)_by_wife/partner_y',\n",
       " 'Experienced_any_sexual_violence_(D105H-I,K)_by_wife/partner_y',\n",
       " 'utlimate_area_unit',\n",
       " 'type_of_place_of_residence_y',\n",
       " 'time_to_water_source',\n",
       " 'household_has_radio',\n",
       " 'religion',\n",
       " 'tribe',\n",
       " 'resident_visitor',\n",
       " 'number_of_household_members',\n",
       " 'relationship_to_household_head',\n",
       " 'sex_of_household_head',\n",
       " 'frequency_of_listening_radio',\n",
       " 'number_of_trips_last12month',\n",
       " 'total_children',\n",
       " 'sons_elsewhere',\n",
       " 'number_of_injections',\n",
       " 'injections_administered_by_healthworker',\n",
       " 'place_of_injection',\n",
       " 'current_marital_status',\n",
       " 'leaving_living_with_partner',\n",
       " 'number_of_unions',\n",
       " 'currently_living',\n",
       " 'number_of_other_wives',\n",
       " 'months_of_first_cohabitation',\n",
       " 'year_of_first_cohabitation',\n",
       " 'v512',\n",
       " 'months_since_last_sex',\n",
       " 'recent_sexual_activity',\n",
       " 'months_of_abstinence',\n",
       " 'reason_for_no_sex_husband_has_other_women',\n",
       " 'reason_no_sex_tired_notinmood',\n",
       " 'respondent_currently_working',\n",
       " 'work_area',\n",
       " 'ever_heard_of_sti',\n",
       " 'used_condom_last2_sex',\n",
       " 'condoms_from_government',\n",
       " 'last_sexual_partner',\n",
       " 'ever_test_for_hiv',\n",
       " 'alchoholconsumption_last_sex',\n",
       " 'alchoholconsumption_2last_sex',\n",
       " 'total_life_time_number_of_partners',\n",
       " 'ever_forced_for_sex',\n",
       " 'hiv_test_results',\n",
       " 'number_of_testing_times',\n",
       " 'ever_test_as_couple',\n",
       " 'careful_about_hiv',\n",
       " 'chances_getting_hiv',\n",
       " 'who_can_give_u_hiv',\n",
       " 'respondent_circumised',\n",
       " 'paid_for_sex_last_12months']"
      ]
     },
     "execution_count": 6,
     "metadata": {},
     "output_type": "execute_result"
    }
   ],
   "source": [
    "list(dt.columns)"
   ]
  },
  {
   "cell_type": "code",
   "execution_count": 7,
   "metadata": {},
   "outputs": [],
   "source": [
    "## make a copy\n",
    "data = dt.copy()"
   ]
  },
  {
   "cell_type": "markdown",
   "metadata": {},
   "source": [
    "### Variables"
   ]
  },
  {
   "cell_type": "code",
   "execution_count": 138,
   "metadata": {},
   "outputs": [
    {
     "data": {
      "text/plain": [
       "array(['male', nan, 'female'], dtype=object)"
      ]
     },
     "execution_count": 138,
     "metadata": {},
     "output_type": "execute_result"
    }
   ],
   "source": [
    "data['sex_of_household_head'].unique()"
   ]
  },
  {
   "cell_type": "code",
   "execution_count": 139,
   "metadata": {},
   "outputs": [
    {
     "data": {
      "text/plain": [
       "<matplotlib.axes._subplots.AxesSubplot at 0x7faffe9a26a0>"
      ]
     },
     "execution_count": 139,
     "metadata": {},
     "output_type": "execute_result"
    },
    {
     "data": {
      "image/png": "[encoded data removed]",
      "text/plain": [
       "<Figure size 432x288 with 1 Axes>"
      ]
     },
     "metadata": {
      "needs_background": "light"
     },
     "output_type": "display_data"
    }
   ],
   "source": [
    "data['sex_of_household_head'].value_counts().plot(kind='bar')"
   ]
  },
  {
   "cell_type": "code",
   "execution_count": 140,
   "metadata": {},
   "outputs": [],
   "source": [
    "data['sex_of_household_head'] = data['sex_of_household_head'].replace({'female':0,'male':1})"
   ]
  },
  {
   "cell_type": "code",
   "execution_count": 101,
   "metadata": {},
   "outputs": [],
   "source": [
    "def fill(col):\n",
    "    print(\"Working ...\")\n",
    "    data[col] = data[col].fillna(data[col].median())\n",
    "    print(\"Done!\")\n",
    "    #print the graph\n",
    "    plt.title(col)\n",
    "    data[col].value_counts().plot(kind='barh')\n",
    "    \n",
    "    #update the csv\n",
    "    print(\"Updating csv\")\n",
    "    data.to_csv(\"fin_data.csv\",index=False)"
   ]
  },
  {
   "cell_type": "code",
   "execution_count": 141,
   "metadata": {},
   "outputs": [
    {
     "name": "stdout",
     "output_type": "stream",
     "text": [
      "Working ...\n",
      "Done!\n",
      "Updating csv\n"
     ]
    },
    {
     "data": {
      "image/png": "[encoded data removed]",
      "text/plain": [
       "<Figure size 432x288 with 1 Axes>"
      ]
     },
     "metadata": {
      "needs_background": "light"
     },
     "output_type": "display_data"
    }
   ],
   "source": [
    "fill(\"household_has_radio\")"
   ]
  },
  {
   "cell_type": "code",
   "execution_count": 117,
   "metadata": {},
   "outputs": [],
   "source": [
    "data.filter(like ='Wife/partner').fillna(data.median()).to_csv(\"fin_data.csv\",index=False)"
   ]
  },
  {
   "cell_type": "code",
   "execution_count": 142,
   "metadata": {},
   "outputs": [
    {
     "data": {
      "text/plain": [
       "<matplotlib.axes._subplots.AxesSubplot at 0x7faffe9055c0>"
      ]
     },
     "execution_count": 142,
     "metadata": {},
     "output_type": "execute_result"
    },
    {
     "data": {
      "image/png": "[encoded data removed]",
      "text/plain": [
       "<Figure size 1728x720 with 2 Axes>"
      ]
     },
     "metadata": {
      "needs_background": "light"
     },
     "output_type": "display_data"
    }
   ],
   "source": [
    "mno.bar(data)"
   ]
  },
  {
   "cell_type": "code",
   "execution_count": null,
   "metadata": {},
   "outputs": [],
   "source": []
  }
 ],
 "metadata": {
  "kernelspec": {
   "display_name": "Python 3",
   "language": "python",
   "name": "python3"
  },
  "language_info": {
   "codemirror_mode": {
    "name": "ipython",
    "version": 3
   },
   "file_extension": ".py",
   "mimetype": "text/x-python",
   "name": "python",
   "nbconvert_exporter": "python",
   "pygments_lexer": "ipython3",
   "version": "3.6.9"
  }
 },
 "nbformat": 4,
 "nbformat_minor": 2
}
